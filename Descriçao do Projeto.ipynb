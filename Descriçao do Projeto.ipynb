{
 "cells": [
  {
   "cell_type": "markdown",
   "metadata": {},
   "source": [
    "# Automação de Indicadores\n",
    "\n",
    "### Objetivo: Treinar e criar um Projeto Completo que envolva a automatização de um processo feito no computador\n",
    "\n",
    "### Descrição:\n",
    "Imagine that you work in a large chain of clothing stores with 25 stores spread throughout Brazil.\n",
    "\n",
    "Every day, in the morning, the data analysis team calculates the so-called One Pages and sends the OnePage of your store to the manager of each store, as well as all the information used in calculating the indicators.\n",
    "\n",
    "A One Page is a very simple and straight to the point summary, used by the store management team to find out the main indicators of each store and allow, in 1 page (hence the name OnePage), both the comparison between different stores, as well as which indicators that shop managed to fulfill that day or not.\n",
    "<br><br><br><br><br>\n",
    "Imagine que você trabalha em uma grande rede de lojas de roupa com 25 lojas espalhadas por todo o Brasil.\n",
    "\n",
    "Todo dia, pela manhã, a equipe de análise de dados calcula os chamados One Pages e envia para o gerente de cada loja o OnePage da sua loja, bem como todas as informações usadas no cálculo dos indicadores.\n",
    "\n",
    "Um One Page é um resumo muito simples e direto ao ponto, usado pela equipe de gerência de loja para saber os principais indicadores de cada loja e permitir em 1 página (daí o nome OnePage) tanto a comparação entre diferentes lojas, quanto quais indicadores aquela loja conseguiu cumprir naquele dia ou não.\n",
    "\n",
    "Exemplo de OnePage:"
   ]
  },
  {
   "cell_type": "markdown",
   "metadata": {},
   "source": [
    "![title](onepage.png)"
   ]
  },
  {
   "cell_type": "markdown",
   "metadata": {},
   "source": [
    "Your role, as a Data Analyst, is to be able to create a process in the most automatic way possible to calculate the OnePage of each store and send an email to the manager of each store with your OnePage in the body of the email and also the file complete with the data of their respective store attached.\n",
    "<br><br><br><br>\n",
    "O seu papel, como Analista de Dados, é conseguir criar um processo da forma mais automática possível para calcular o OnePage de cada loja e enviar um email para o gerente de cada loja com o seu OnePage no corpo do e-mail e também o arquivo completo com os dados da sua respectiva loja em anexo.\n",
    "\n",
    "Ex: O e-mail a ser enviado para o Gerente da Loja A deve ser como exemplo"
   ]
  },
  {
   "cell_type": "markdown",
   "metadata": {},
   "source": [
    "![exemplo_email](Exemplo.JPG)"
   ]
  },
  {
   "cell_type": "markdown",
   "metadata": {},
   "source": [
    "### Indicadores do OnePage\n",
    "\n",
    "- Faturamento -> Meta Ano: 1.650.000 / Meta Dia: 1000\n",
    "- Diversidade de Produtos (quantos produtos diferentes foram vendidos naquele período) -> Meta Ano: 120 / Meta Dia: 4\n",
    "- Ticket Médio por Venda -> Meta Ano: 500 / Meta Dia: 500"
   ]
  }
 ],
 "metadata": {
  "kernelspec": {
   "display_name": "Python 3 (ipykernel)",
   "language": "python",
   "name": "python3"
  },
  "language_info": {
   "codemirror_mode": {
    "name": "ipython",
    "version": 3
   },
   "file_extension": ".py",
   "mimetype": "text/x-python",
   "name": "python",
   "nbconvert_exporter": "python",
   "pygments_lexer": "ipython3",
   "version": "3.9.12"
  }
 },
 "nbformat": 4,
 "nbformat_minor": 4
}
